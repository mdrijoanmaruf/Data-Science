{
 "cells": [
  {
   "cell_type": "markdown",
   "id": "8310fa06-abe5-4609-a3e2-54a7b582bbaa",
   "metadata": {},
   "source": [
    "# Numpy for Data Science"
   ]
  },
  {
   "cell_type": "code",
   "execution_count": 1,
   "id": "03aa6632-ef8a-4e25-a192-a818afb6facd",
   "metadata": {},
   "outputs": [],
   "source": [
    "import numpy as np"
   ]
  },
  {
   "cell_type": "markdown",
   "id": "c6f08880-2d9e-4e99-a89d-02af21cd220e",
   "metadata": {},
   "source": [
    "## Array Attribute"
   ]
  },
  {
   "cell_type": "markdown",
   "id": "e3841228-87db-4792-87d7-debca9534485",
   "metadata": {},
   "source": [
    "### 1-D Array :"
   ]
  },
  {
   "cell_type": "code",
   "execution_count": 2,
   "id": "0e886903-530a-4b39-9a2f-c6e0ae40dae6",
   "metadata": {},
   "outputs": [
    {
     "data": {
      "text/plain": [
       "array([1, 2, 3, 4, 5])"
      ]
     },
     "execution_count": 2,
     "metadata": {},
     "output_type": "execute_result"
    }
   ],
   "source": [
    "a = np.array([1,2,3,4,5])\n",
    "a"
   ]
  },
  {
   "cell_type": "code",
   "execution_count": 3,
   "id": "32e37e07-78fe-4d5a-9659-c7645eaaebac",
   "metadata": {},
   "outputs": [
    {
     "data": {
      "text/plain": [
       "numpy.ndarray"
      ]
     },
     "execution_count": 3,
     "metadata": {},
     "output_type": "execute_result"
    }
   ],
   "source": [
    "type(a) # numpy.ndarray --> n dimantion array"
   ]
  },
  {
   "cell_type": "code",
   "execution_count": 4,
   "id": "7d30320c-ccd7-449d-944e-e7d295ec39a3",
   "metadata": {},
   "outputs": [
    {
     "data": {
      "text/plain": [
       "1"
      ]
     },
     "execution_count": 4,
     "metadata": {},
     "output_type": "execute_result"
    }
   ],
   "source": [
    "a.ndim"
   ]
  },
  {
   "cell_type": "code",
   "execution_count": 5,
   "id": "69b05c8e-991e-4335-babe-42870c7808bb",
   "metadata": {},
   "outputs": [
    {
     "data": {
      "text/plain": [
       "(5,)"
      ]
     },
     "execution_count": 5,
     "metadata": {},
     "output_type": "execute_result"
    }
   ],
   "source": [
    "a.shape       # 5 column , no rows"
   ]
  },
  {
   "cell_type": "markdown",
   "id": "7640acbb-fe5c-4612-82f0-ea33c309ba13",
   "metadata": {},
   "source": [
    "### 2-D Array :"
   ]
  },
  {
   "cell_type": "code",
   "execution_count": 7,
   "id": "aef9c00e-9ecd-427a-ba98-a0c7b32895ab",
   "metadata": {},
   "outputs": [
    {
     "data": {
      "text/plain": [
       "array([[1, 2, 3],\n",
       "       [4, 5, 6]])"
      ]
     },
     "execution_count": 7,
     "metadata": {},
     "output_type": "execute_result"
    }
   ],
   "source": [
    "b = np.array([[1,2,3],\n",
    "              [4,5,6]])\n",
    "b"
   ]
  },
  {
   "cell_type": "code",
   "execution_count": 9,
   "id": "07c1d35b-4731-4c9a-927e-a586fe7b561c",
   "metadata": {},
   "outputs": [
    {
     "data": {
      "text/plain": [
       "(2, 3)"
      ]
     },
     "execution_count": 9,
     "metadata": {},
     "output_type": "execute_result"
    }
   ],
   "source": [
    "b.shape           # 2 rows , 3 column"
   ]
  },
  {
   "cell_type": "code",
   "execution_count": 11,
   "id": "999a76cb-0b3b-42c7-b206-269f8fcf2c3f",
   "metadata": {},
   "outputs": [
    {
     "data": {
      "text/plain": [
       "dtype('int64')"
      ]
     },
     "execution_count": 11,
     "metadata": {},
     "output_type": "execute_result"
    }
   ],
   "source": [
    "b.dtype           # dtype --> data type"
   ]
  },
  {
   "cell_type": "code",
   "execution_count": 13,
   "id": "38c39ddb-90a3-4ef2-8954-02c4e4f07a08",
   "metadata": {},
   "outputs": [
    {
     "data": {
      "text/plain": [
       "6"
      ]
     },
     "execution_count": 13,
     "metadata": {},
     "output_type": "execute_result"
    }
   ],
   "source": [
    "b.size            # Total element"
   ]
  },
  {
   "cell_type": "markdown",
   "id": "390863dd-6515-4c53-abce-32ea5aba2c44",
   "metadata": {},
   "source": [
    "### 3-D Array :"
   ]
  },
  {
   "cell_type": "code",
   "execution_count": 29,
   "id": "d06c5b50-38a0-4e9e-a82e-5a5d7c262b96",
   "metadata": {},
   "outputs": [
    {
     "data": {
      "text/plain": [
       "array([[[ 1,  2,  3],\n",
       "        [ 4,  5,  6],\n",
       "        [ 7,  8,  9]],\n",
       "\n",
       "       [[11, 12, 13],\n",
       "        [14, 15, 16],\n",
       "        [17, 19, 19]]])"
      ]
     },
     "execution_count": 29,
     "metadata": {},
     "output_type": "execute_result"
    }
   ],
   "source": [
    "c = np.array([[[1,2,3],\n",
    "              [4,5,6],\n",
    "              [7,8,9]],\n",
    "              \n",
    "            [[11,12,13],    # imagine that 1-9 in up of 10-18\n",
    "             [14,15,16],\n",
    "             [17,19,19]]])\n",
    "c"
   ]
  },
  {
   "cell_type": "markdown",
   "id": "bf8f57e0-a442-417c-985f-8c4d579766e9",
   "metadata": {},
   "source": [
    "### Memory check :"
   ]
  },
  {
   "cell_type": "code",
   "execution_count": 31,
   "id": "5c87af99-d2f6-4c3e-999a-dd86dad29a1c",
   "metadata": {},
   "outputs": [
    {
     "data": {
      "text/plain": [
       "(40, 48, 144)"
      ]
     },
     "execution_count": 31,
     "metadata": {},
     "output_type": "execute_result"
    }
   ],
   "source": [
    "a.nbytes , b.nbytes , c.nbytes"
   ]
  },
  {
   "cell_type": "markdown",
   "id": "8dd7296c-67ab-4be7-b901-024ba870f176",
   "metadata": {},
   "source": [
    "### Zeros & Ones :"
   ]
  },
  {
   "cell_type": "code",
   "execution_count": 37,
   "id": "40af486c-3294-4ca1-9d72-ef0cef4f5355",
   "metadata": {},
   "outputs": [
    {
     "data": {
      "text/plain": [
       "array([[0, 0, 0],\n",
       "       [0, 0, 0],\n",
       "       [0, 0, 0]])"
      ]
     },
     "execution_count": 37,
     "metadata": {},
     "output_type": "execute_result"
    }
   ],
   "source": [
    "zeros_arr = np.zeros((3,3) , dtype=int)\n",
    "zeros_arr"
   ]
  },
  {
   "cell_type": "code",
   "execution_count": 39,
   "id": "bc04081d-84f2-43d7-9c0a-42b12446864f",
   "metadata": {},
   "outputs": [
    {
     "data": {
      "text/plain": [
       "array([[1, 1, 1, 1],\n",
       "       [1, 1, 1, 1],\n",
       "       [1, 1, 1, 1],\n",
       "       [1, 1, 1, 1]])"
      ]
     },
     "execution_count": 39,
     "metadata": {},
     "output_type": "execute_result"
    }
   ],
   "source": [
    "ones_arr = np.ones((4,4) , dtype=int)\n",
    "ones_arr"
   ]
  },
  {
   "cell_type": "markdown",
   "id": "c0c99d6e-018d-4031-b039-6e549eb5dd98",
   "metadata": {},
   "source": [
    "### Different values :"
   ]
  },
  {
   "cell_type": "code",
   "execution_count": 41,
   "id": "98c83d65-c944-4025-b496-040d40b099c2",
   "metadata": {},
   "outputs": [
    {
     "data": {
      "text/plain": [
       "array([[12, 12, 12, 12],\n",
       "       [12, 12, 12, 12],\n",
       "       [12, 12, 12, 12],\n",
       "       [12, 12, 12, 12]])"
      ]
     },
     "execution_count": 41,
     "metadata": {},
     "output_type": "execute_result"
    }
   ],
   "source": [
    "arr_3 = np.full((4,4) , 12)\n",
    "arr_3"
   ]
  },
  {
   "cell_type": "markdown",
   "id": "7000e9a7-b1fc-4e93-a352-0abe814ad5ee",
   "metadata": {},
   "source": [
    "### Identity matrix ( I ) :"
   ]
  },
  {
   "cell_type": "code",
   "execution_count": 43,
   "id": "11b3e351-92fc-4ce4-8f55-06380e94b32a",
   "metadata": {},
   "outputs": [
    {
     "data": {
      "text/plain": [
       "array([[1, 0, 0],\n",
       "       [0, 1, 0],\n",
       "       [0, 0, 1]])"
      ]
     },
     "execution_count": 43,
     "metadata": {},
     "output_type": "execute_result"
    }
   ],
   "source": [
    "i_3 = np.identity(3, dtype=int)\n",
    "i_3"
   ]
  },
  {
   "cell_type": "markdown",
   "id": "289b179c-2b5e-4b19-a9b6-8785a0e29f6a",
   "metadata": {},
   "source": [
    "### Eye :"
   ]
  },
  {
   "cell_type": "code",
   "execution_count": 45,
   "id": "0a694bd5-2bbf-4b71-8cb4-5c73a4503061",
   "metadata": {},
   "outputs": [
    {
     "data": {
      "text/plain": [
       "array([[1, 0, 0],\n",
       "       [0, 1, 0],\n",
       "       [0, 0, 1]])"
      ]
     },
     "execution_count": 45,
     "metadata": {},
     "output_type": "execute_result"
    }
   ],
   "source": [
    "eye = np.eye(3 , dtype=int)\n",
    "eye"
   ]
  },
  {
   "cell_type": "code",
   "execution_count": 48,
   "id": "ca7d47d7-13c6-43de-ac0f-c16a1df8cb72",
   "metadata": {},
   "outputs": [
    {
     "data": {
      "text/plain": [
       "array([[0, 1, 0, 0],\n",
       "       [0, 0, 1, 0],\n",
       "       [0, 0, 0, 1],\n",
       "       [0, 0, 0, 0]])"
      ]
     },
     "execution_count": 48,
     "metadata": {},
     "output_type": "execute_result"
    }
   ],
   "source": [
    "eye = np.eye(4, dtype= int , k = 1)\n",
    "eye           # k = 1 --> mail row will up by 1"
   ]
  },
  {
   "cell_type": "markdown",
   "id": "656d0319-d54e-4e76-b2cb-c27b05452fb9",
   "metadata": {},
   "source": [
    "### Arrange :"
   ]
  },
  {
   "cell_type": "code",
   "execution_count": 52,
   "id": "a3e046bd-2dc6-4a22-9331-c9dc66e13a79",
   "metadata": {},
   "outputs": [
    {
     "data": {
      "text/plain": [
       "array([ 0, 10, 20, 30, 40, 50, 60, 70, 80, 90])"
      ]
     },
     "execution_count": 52,
     "metadata": {},
     "output_type": "execute_result"
    }
   ],
   "source": [
    "arrange = np.arange(0,100,10)       # like a python range() function\n",
    "arrange"
   ]
  },
  {
   "cell_type": "markdown",
   "id": "05cb2657-87f6-4db5-81fc-5a7536c96453",
   "metadata": {},
   "source": [
    "### Linspace :"
   ]
  },
  {
   "cell_type": "code",
   "execution_count": 54,
   "id": "c1839b2e-c029-4505-8f3f-50bc472b7c59",
   "metadata": {},
   "outputs": [
    {
     "data": {
      "text/plain": [
       "array([  1.        ,   6.21052632,  11.42105263,  16.63157895,\n",
       "        21.84210526,  27.05263158,  32.26315789,  37.47368421,\n",
       "        42.68421053,  47.89473684,  53.10526316,  58.31578947,\n",
       "        63.52631579,  68.73684211,  73.94736842,  79.15789474,\n",
       "        84.36842105,  89.57894737,  94.78947368, 100.        ])"
      ]
     },
     "execution_count": 54,
     "metadata": {},
     "output_type": "execute_result"
    }
   ],
   "source": [
    "linspace = np.linspace(1,100,20)      # (start , end , how many values)\n",
    "linspace"
   ]
  },
  {
   "cell_type": "code",
   "execution_count": 55,
   "id": "8a981c5f-2565-4988-88b1-d94d0db8fbf1",
   "metadata": {},
   "outputs": [
    {
     "data": {
      "text/plain": [
       "array([  1,   6,  11,  16,  21,  27,  32,  37,  42,  47,  53,  58,  63,\n",
       "        68,  73,  79,  84,  89,  94, 100])"
      ]
     },
     "execution_count": 55,
     "metadata": {},
     "output_type": "execute_result"
    }
   ],
   "source": [
    "linspace = np.linspace(1,100,20 , dtype=int)      # (start , end , how many values)\n",
    "linspace"
   ]
  },
  {
   "cell_type": "markdown",
   "id": "e2f2f63c-0625-45d5-b682-031dfc9db890",
   "metadata": {},
   "source": [
    "### Empty :"
   ]
  },
  {
   "cell_type": "code",
   "execution_count": 57,
   "id": "5fc6c701-4347-4790-95b4-e6d697c961a7",
   "metadata": {},
   "outputs": [
    {
     "data": {
      "text/plain": [
       "array([[4.68727465e-310, 0.00000000e+000, 4.68825224e-310,\n",
       "        4.68825192e-310, 2.37151510e-322]])"
      ]
     },
     "execution_count": 57,
     "metadata": {},
     "output_type": "execute_result"
    }
   ],
   "source": [
    "empty = np.empty((1,5))\n",
    "empty"
   ]
  },
  {
   "cell_type": "markdown",
   "id": "dba416f8-abf1-40ae-93a2-f8a2c6aa2c3f",
   "metadata": {},
   "source": [
    "## Array Indexing :"
   ]
  },
  {
   "cell_type": "markdown",
   "id": "d09303a6-87c7-4e8c-8669-02ef777f048e",
   "metadata": {},
   "source": [
    "### Index :"
   ]
  },
  {
   "cell_type": "code",
   "execution_count": 59,
   "id": "6f24018d-8de4-489b-b3f6-e754d55053e7",
   "metadata": {},
   "outputs": [
    {
     "data": {
      "text/plain": [
       "1"
      ]
     },
     "execution_count": 59,
     "metadata": {},
     "output_type": "execute_result"
    }
   ],
   "source": [
    "a = np.array([1,2,3,4,5,6,7])\n",
    "a[0]            # as like normal indexing"
   ]
  },
  {
   "cell_type": "markdown",
   "id": "11173b03-8100-449c-8fd2-8cfaf1f91257",
   "metadata": {},
   "source": [
    "### Random array :"
   ]
  },
  {
   "cell_type": "code",
   "execution_count": 65,
   "id": "951aca4e-7dce-4c62-a393-e7979e032a49",
   "metadata": {},
   "outputs": [
    {
     "data": {
      "text/plain": [
       "array([[45, 10, 75, 63, 86],\n",
       "       [ 8, 39, 76, 12, 50],\n",
       "       [54, 24, 54, 30, 49],\n",
       "       [97, 39, 97, 77, 32],\n",
       "       [10, 57, 58, 29, 92]])"
      ]
     },
     "execution_count": 65,
     "metadata": {},
     "output_type": "execute_result"
    }
   ],
   "source": [
    "random = np.random.randint(1,100 , size = (5,5))\n",
    "random        # 1-100 random number 5x5 matrix"
   ]
  },
  {
   "cell_type": "markdown",
   "id": "9a0a30ed-630c-41ee-ad2e-ca3cfcb890a1",
   "metadata": {},
   "source": [
    "### Index access 2-D array :"
   ]
  },
  {
   "cell_type": "code",
   "execution_count": 71,
   "id": "41a13ea6-b331-4af2-b3bb-50d7cf6fbce2",
   "metadata": {},
   "outputs": [
    {
     "data": {
      "text/plain": [
       "45"
      ]
     },
     "execution_count": 71,
     "metadata": {},
     "output_type": "execute_result"
    }
   ],
   "source": [
    "x = random[0][0]           # row 0 , culumn 0\n",
    "x"
   ]
  },
  {
   "cell_type": "code",
   "execution_count": 72,
   "id": "0e3ed47e-5565-42ca-9c02-62de6103655f",
   "metadata": {},
   "outputs": [
    {
     "data": {
      "text/plain": [
       "45"
      ]
     },
     "execution_count": 72,
     "metadata": {},
     "output_type": "execute_result"
    }
   ],
   "source": [
    "y = random[0,0]           # rew 0 , culumn 0         \n",
    "y"
   ]
  },
  {
   "cell_type": "markdown",
   "id": "9fa83519-1276-4767-9042-e0f430f45957",
   "metadata": {},
   "source": [
    "### Index access 3-D array :"
   ]
  },
  {
   "cell_type": "code",
   "execution_count": 77,
   "id": "c9695767-e034-4d53-8e5f-7aca4e015d1b",
   "metadata": {},
   "outputs": [
    {
     "data": {
      "text/plain": [
       "array([[[69, 56, 92, 65],\n",
       "        [66, 45,  5, 42],\n",
       "        [89, 41, 26, 90]],\n",
       "\n",
       "       [[58, 53, 48, 43],\n",
       "        [13, 16, 50, 43],\n",
       "        [97, 64, 82, 44]]])"
      ]
     },
     "execution_count": 77,
     "metadata": {},
     "output_type": "execute_result"
    }
   ],
   "source": [
    "random = np.random.randint(1,100 , size=(2,3,4))\n",
    "random          # size(2,3,4) --> 3 : row  , 4 : column and 2 stage"
   ]
  },
  {
   "cell_type": "code",
   "execution_count": 78,
   "id": "b4b49ade-5206-40cb-a9e1-fa33136d6669",
   "metadata": {},
   "outputs": [
    {
     "data": {
      "text/plain": [
       "69"
      ]
     },
     "execution_count": 78,
     "metadata": {},
     "output_type": "execute_result"
    }
   ],
   "source": [
    "x = random[0][0][0]\n",
    "x"
   ]
  },
  {
   "cell_type": "code",
   "execution_count": 80,
   "id": "cc29e49f-75f7-4a15-8729-3ff84925ace3",
   "metadata": {},
   "outputs": [
    {
     "data": {
      "text/plain": [
       "69"
      ]
     },
     "execution_count": 80,
     "metadata": {},
     "output_type": "execute_result"
    }
   ],
   "source": [
    "x = random[0,0,0]\n",
    "x"
   ]
  },
  {
   "cell_type": "markdown",
   "id": "96c65323-37af-49ad-a3d2-56dc0e9533c5",
   "metadata": {},
   "source": [
    "## Array Slicing :"
   ]
  },
  {
   "cell_type": "markdown",
   "id": "91f4b51d-5079-4305-a548-0038eb393885",
   "metadata": {},
   "source": [
    "### Slicing 1-D array :"
   ]
  },
  {
   "cell_type": "code",
   "execution_count": 81,
   "id": "e649992d-ebca-4480-b2c7-f7ba81f437fa",
   "metadata": {},
   "outputs": [
    {
     "data": {
      "text/plain": [
       "array([2, 3, 4])"
      ]
     },
     "execution_count": 81,
     "metadata": {},
     "output_type": "execute_result"
    }
   ],
   "source": [
    "a = np.array([1,2,3,4,5,6,7,8,9])\n",
    "a[1:4]"
   ]
  },
  {
   "cell_type": "code",
   "execution_count": 82,
   "id": "f503cb3f-ba07-4805-9a72-96d4537b8bea",
   "metadata": {},
   "outputs": [
    {
     "data": {
      "text/plain": [
       "array([1, 2, 3, 4, 5, 6])"
      ]
     },
     "execution_count": 82,
     "metadata": {},
     "output_type": "execute_result"
    }
   ],
   "source": [
    "a[:6]"
   ]
  },
  {
   "cell_type": "code",
   "execution_count": 84,
   "id": "ae03323b-306d-4e82-b4c8-f5e31a204849",
   "metadata": {},
   "outputs": [
    {
     "data": {
      "text/plain": [
       "array([3, 4, 5, 6, 7, 8, 9])"
      ]
     },
     "execution_count": 84,
     "metadata": {},
     "output_type": "execute_result"
    }
   ],
   "source": [
    "a[2:]"
   ]
  },
  {
   "cell_type": "markdown",
   "id": "0e41c5fe-4712-41d7-89e0-3099154d2bdc",
   "metadata": {},
   "source": [
    "### Slicing 2-D array :"
   ]
  },
  {
   "cell_type": "code",
   "execution_count": 87,
   "id": "c605fd0d-0925-4b92-9ff9-0ce4fcc30e17",
   "metadata": {},
   "outputs": [
    {
     "data": {
      "text/plain": [
       "array([[1],\n",
       "       [4]])"
      ]
     },
     "execution_count": 87,
     "metadata": {},
     "output_type": "execute_result"
    }
   ],
   "source": [
    "b = np.array([[1,2,3],\n",
    "             [4,5,6],\n",
    "             [7,8,9]])\n",
    "b[0:2 , 0:1]   # row , column"
   ]
  },
  {
   "cell_type": "markdown",
   "id": "5bae776e-a98c-490e-b988-3b1529fffcb3",
   "metadata": {},
   "source": [
    "## Manipulate array shape :"
   ]
  },
  {
   "cell_type": "code",
   "execution_count": 88,
   "id": "e74dbf41-9740-4b74-b986-a283e9f3c7e4",
   "metadata": {},
   "outputs": [],
   "source": [
    "# Total 5 way:\n",
    "    # 1. reshape() \n",
    "    # 2. resize()\n",
    "    # 3. revel()\n",
    "    # 4. flatten()\n",
    "    # 5. defining array shape"
   ]
  },
  {
   "cell_type": "markdown",
   "id": "26ef93a8-3937-4531-8f05-1f1b6091897e",
   "metadata": {},
   "source": [
    "### 1. reshape() :"
   ]
  },
  {
   "cell_type": "code",
   "execution_count": 91,
   "id": "147fc05d-72b1-483e-be95-31cbeff0f296",
   "metadata": {},
   "outputs": [
    {
     "data": {
      "text/plain": [
       "array([[1, 2],\n",
       "       [3, 4],\n",
       "       [5, 6]])"
      ]
     },
     "execution_count": 91,
     "metadata": {},
     "output_type": "execute_result"
    }
   ],
   "source": [
    "b = np.array([[1, 2, 3] , \n",
    "              [4, 5, 6]])\n",
    "np.reshape(b,(3,2))     # if element is not emough it will show element error"
   ]
  },
  {
   "cell_type": "markdown",
   "id": "6f503261-b560-46ed-b6b1-8ba334d901f1",
   "metadata": {},
   "source": [
    "### 2. resize() :"
   ]
  },
  {
   "cell_type": "code",
   "execution_count": 94,
   "id": "e7646481-fd91-4e6e-a97a-43a0f65751bb",
   "metadata": {},
   "outputs": [
    {
     "data": {
      "text/plain": [
       "array([[1, 2, 3],\n",
       "       [4, 5, 6],\n",
       "       [1, 2, 3],\n",
       "       [4, 5, 6]])"
      ]
     },
     "execution_count": 94,
     "metadata": {},
     "output_type": "execute_result"
    }
   ],
   "source": [
    "# to solve this element error we can use resize()\n",
    "b = np.array([[1, 2, 3] , \n",
    "              [4, 5, 6]])\n",
    "np.resize(b, (4,3))   # repeat the element if extra need"
   ]
  },
  {
   "cell_type": "markdown",
   "id": "748e0a79-ea2c-4860-8926-de8ae956905c",
   "metadata": {},
   "source": [
    "### 3. revel () :"
   ]
  },
  {
   "cell_type": "code",
   "execution_count": 97,
   "id": "60051469-4632-4c58-a37d-3d4919100953",
   "metadata": {},
   "outputs": [
    {
     "data": {
      "text/plain": [
       "array([1, 2, 3, 4, 5, 6])"
      ]
     },
     "execution_count": 97,
     "metadata": {},
     "output_type": "execute_result"
    }
   ],
   "source": [
    "# change main array \n",
    "b = np.array([[1, 2, 3] , \n",
    "              [4, 5, 6]])\n",
    "ravel = np.ravel(b)\n",
    "ravel"
   ]
  },
  {
   "cell_type": "code",
   "execution_count": 99,
   "id": "ccb7c18d-9fe0-4f5e-b00a-99c5441ffdc8",
   "metadata": {},
   "outputs": [
    {
     "data": {
      "text/plain": [
       "array([100,   2,   3,   4,   5,   6])"
      ]
     },
     "execution_count": 99,
     "metadata": {},
     "output_type": "execute_result"
    }
   ],
   "source": [
    "ravel[0] = 100              # return a view of array and change main array \n",
    "ravel"
   ]
  },
  {
   "cell_type": "markdown",
   "id": "a5e70df9-3bf7-4074-9830-8d34e3968a7c",
   "metadata": {},
   "source": [
    "### 4. flatten() :"
   ]
  },
  {
   "cell_type": "code",
   "execution_count": 111,
   "id": "518a9cd9-ffb7-46f2-8386-8c0c6a833344",
   "metadata": {},
   "outputs": [
    {
     "data": {
      "text/plain": [
       "array([1, 2, 3, 4, 5, 6])"
      ]
     },
     "execution_count": 111,
     "metadata": {},
     "output_type": "execute_result"
    }
   ],
   "source": [
    "# convart any array to 1-D array\n",
    "# don't change main array\n",
    "b = np.array([[1, 2, 3] , \n",
    "             [4, 5, 6]])\n",
    "flatten = b.flatten()       # return a copy of arry and can't change main array\n",
    "flatten"
   ]
  },
  {
   "cell_type": "code",
   "execution_count": 113,
   "id": "c7cb0688-b324-4c3d-bf65-5ff17a3bd2d1",
   "metadata": {},
   "outputs": [
    {
     "data": {
      "text/plain": [
       "array([[1, 2, 3],\n",
       "       [4, 5, 6]])"
      ]
     },
     "execution_count": 113,
     "metadata": {},
     "output_type": "execute_result"
    }
   ],
   "source": [
    "flatten[0] = 100            # change flatten only not b\n",
    "b"
   ]
  },
  {
   "cell_type": "markdown",
   "id": "dd33605d-c3a4-4873-8c5a-25e2f25952b8",
   "metadata": {},
   "source": [
    "### 5. defining array shape :"
   ]
  },
  {
   "cell_type": "code",
   "execution_count": 117,
   "id": "946dd698-ed67-465c-bbea-f6ad8480545a",
   "metadata": {},
   "outputs": [
    {
     "data": {
      "text/plain": [
       "array([[1, 2],\n",
       "       [3, 4],\n",
       "       [5, 6]])"
      ]
     },
     "execution_count": 117,
     "metadata": {},
     "output_type": "execute_result"
    }
   ],
   "source": [
    "b = np.array([[1, 2, 3] , \n",
    "             [4, 5, 6]])\n",
    "b.shape = (3, 2)            # need equal element\n",
    "b"
   ]
  },
  {
   "cell_type": "markdown",
   "id": "0a317ecd-23a0-43b8-87db-326137b3282f",
   "metadata": {},
   "source": [
    "## Array staking :"
   ]
  },
  {
   "cell_type": "markdown",
   "id": "9029aad8-b908-4d42-b630-6722ef4a178d",
   "metadata": {},
   "source": [
    "### hstake() :"
   ]
  },
  {
   "cell_type": "code",
   "execution_count": 119,
   "id": "84e2e133-0377-49b3-bd4a-af5798b37adc",
   "metadata": {},
   "outputs": [
    {
     "data": {
      "text/plain": [
       "array([[ 2,  4,  6],\n",
       "       [ 8, 10, 12],\n",
       "       [14, 16, 18]])"
      ]
     },
     "execution_count": 119,
     "metadata": {},
     "output_type": "execute_result"
    }
   ],
   "source": [
    "a = np.arange(1,10).reshape(3,3)    # create a 2-D array 1 to 9\n",
    "b = 2*a                             # 2 * all element\n",
    "b"
   ]
  },
  {
   "cell_type": "code",
   "execution_count": 120,
   "id": "57c7ae10-624a-442d-86e6-b96cdb263859",
   "metadata": {},
   "outputs": [
    {
     "data": {
      "text/plain": [
       "array([[ 1,  2,  3,  2,  4,  6],\n",
       "       [ 4,  5,  6,  8, 10, 12],\n",
       "       [ 7,  8,  9, 14, 16, 18]])"
      ]
     },
     "execution_count": 120,
     "metadata": {},
     "output_type": "execute_result"
    }
   ],
   "source": [
    "x = np.hstack((a,b))                # a + b in horizontal\n",
    "x"
   ]
  },
  {
   "cell_type": "markdown",
   "id": "dec5b4ab-5211-41f5-a6dc-a716daa460ab",
   "metadata": {},
   "source": [
    "### vstake() :"
   ]
  },
  {
   "cell_type": "code",
   "execution_count": 121,
   "id": "cd1849f0-b4ae-4739-b4f7-18319eb1a802",
   "metadata": {},
   "outputs": [
    {
     "data": {
      "text/plain": [
       "array([[ 1,  2,  3],\n",
       "       [ 4,  5,  6],\n",
       "       [ 7,  8,  9],\n",
       "       [ 2,  4,  6],\n",
       "       [ 8, 10, 12],\n",
       "       [14, 16, 18]])"
      ]
     },
     "execution_count": 121,
     "metadata": {},
     "output_type": "execute_result"
    }
   ],
   "source": [
    "y = np.vstack((a,b))                # a + b in vartical \n",
    "y"
   ]
  },
  {
   "cell_type": "markdown",
   "id": "38329d77-e8e5-4364-98f3-f10cd42027bb",
   "metadata": {},
   "source": [
    "### column stake :"
   ]
  },
  {
   "cell_type": "code",
   "execution_count": 122,
   "id": "4f6c2071-a05c-4c62-809b-24266f20e327",
   "metadata": {},
   "outputs": [
    {
     "data": {
      "text/plain": [
       "array([[ 1,  2,  3,  2,  4,  6],\n",
       "       [ 4,  5,  6,  8, 10, 12],\n",
       "       [ 7,  8,  9, 14, 16, 18]])"
      ]
     },
     "execution_count": 122,
     "metadata": {},
     "output_type": "execute_result"
    }
   ],
   "source": [
    "z = np.column_stack((a , b))        # semilar to hstack\n",
    "z"
   ]
  },
  {
   "cell_type": "code",
   "execution_count": 123,
   "id": "78b3fae3-03c2-46d3-8245-5311075fcc24",
   "metadata": {},
   "outputs": [
    {
     "data": {
      "text/plain": [
       "array([[ 1,  2,  3],\n",
       "       [ 4,  5,  6],\n",
       "       [ 7,  8,  9],\n",
       "       [ 2,  4,  6],\n",
       "       [ 8, 10, 12],\n",
       "       [14, 16, 18]])"
      ]
     },
     "execution_count": 123,
     "metadata": {},
     "output_type": "execute_result"
    }
   ],
   "source": [
    "z = np.row_stack((a , b))           # semilar to vstack\n",
    "z"
   ]
  },
  {
   "cell_type": "markdown",
   "id": "0dbbfada-6d57-47e7-a56f-3f98266b1214",
   "metadata": {},
   "source": [
    "### concatinate :"
   ]
  },
  {
   "cell_type": "code",
   "execution_count": 124,
   "id": "6b5e7b69-7a99-42b7-816b-e2a00e400892",
   "metadata": {},
   "outputs": [
    {
     "data": {
      "text/plain": [
       "array([[ 1,  2,  3,  2,  4,  6],\n",
       "       [ 4,  5,  6,  8, 10, 12],\n",
       "       [ 7,  8,  9, 14, 16, 18]])"
      ]
     },
     "execution_count": 124,
     "metadata": {},
     "output_type": "execute_result"
    }
   ],
   "source": [
    "z = np.concatenate((a,b) , axis=1)  # axis 1 = horaizonal and azis 0 = vartical\n",
    "z"
   ]
  }
 ],
 "metadata": {
  "kernelspec": {
   "display_name": "Python 3 (ipykernel)",
   "language": "python",
   "name": "python3"
  },
  "language_info": {
   "codemirror_mode": {
    "name": "ipython",
    "version": 3
   },
   "file_extension": ".py",
   "mimetype": "text/x-python",
   "name": "python",
   "nbconvert_exporter": "python",
   "pygments_lexer": "ipython3",
   "version": "3.10.12"
  }
 },
 "nbformat": 4,
 "nbformat_minor": 5
}
